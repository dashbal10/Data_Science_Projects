{
 "cells": [
  {
   "cell_type": "code",
   "execution_count": 1,
   "id": "da7a4e8e-056d-4190-8561-83a181fb8e32",
   "metadata": {},
   "outputs": [],
   "source": [
    "import pandas as pd\n",
    "import scipy.stats as stats\n",
    "\n",
    "# Step 1: Define the data\n",
    "# Contingency table from the provided data\n",
    "data = {\n",
    "    'Smart Thermostat': [50, 80, 60, 30, 20],\n",
    "    'Smart Light': [70, 100, 90, 50, 50]\n",
    "}\n",
    "\n",
    "index_labels = [\n",
    "    'Very Satisfied',\n",
    "    'Satisfied',\n",
    "    'Neutral',\n",
    "    'Unsatisfied',\n",
    "    'Very Unsatisfied'\n",
    "]\n",
    "\n",
    "# Create a DataFrame\n",
    "df = pd.DataFrame(data, index=index_labels)\n",
    "\n"
   ]
  },
  {
   "cell_type": "code",
   "execution_count": 2,
   "id": "5aa4562c-6376-4af0-8fb1-6c70b7c722a3",
   "metadata": {},
   "outputs": [
    {
     "name": "stdout",
     "output_type": "stream",
     "text": [
      "1. Hypotheses:\n",
      "Null Hypothesis (H0): There is no association between device type and customer satisfaction.\n",
      "Alternative Hypothesis (H1): There is a significant association between device type and customer satisfaction.\n",
      "\n"
     ]
    }
   ],
   "source": [
    "# Step 2: State the Hypotheses\n",
    "print(\"1. Hypotheses:\")\n",
    "print(\"Null Hypothesis (H0): There is no association between device type and customer satisfaction.\")\n",
    "print(\"Alternative Hypothesis (H1): There is a significant association between device type and customer satisfaction.\\n\")\n",
    "\n"
   ]
  },
  {
   "cell_type": "code",
   "execution_count": 3,
   "id": "c98ba9f5-f452-4382-bbe2-3f9aab4523de",
   "metadata": {},
   "outputs": [
    {
     "name": "stdout",
     "output_type": "stream",
     "text": [
      "2. Chi-Square Test Statistic and Expected Frequencies:\n",
      "Chi-Square Statistic: 5.6382\n",
      "Degrees of Freedom: 4\n",
      "P-value: 0.2278\n",
      "\n",
      "Expected Frequencies:\n",
      "                  Smart Thermostat  Smart Light\n",
      "Very Satisfied                48.0         72.0\n",
      "Satisfied                     72.0        108.0\n",
      "Neutral                       60.0         90.0\n",
      "Unsatisfied                   32.0         48.0\n",
      "Very Unsatisfied              28.0         42.0\n"
     ]
    }
   ],
   "source": [
    "# Step 3: Perform the Chi-Square Test\n",
    "chi2_stat, p_value, dof, expected = stats.chi2_contingency(df)\n",
    "\n",
    "print(\"2. Chi-Square Test Statistic and Expected Frequencies:\")\n",
    "print(f\"Chi-Square Statistic: {chi2_stat:.4f}\")\n",
    "print(f\"Degrees of Freedom: {dof}\")\n",
    "print(f\"P-value: {p_value:.4f}\")\n",
    "print(\"\\nExpected Frequencies:\")\n",
    "expected_df = pd.DataFrame(expected, index=index_labels, columns=df.columns)\n",
    "print(expected_df)\n",
    "\n"
   ]
  },
  {
   "cell_type": "code",
   "execution_count": 4,
   "id": "fe128c35-622f-40c8-8aae-78cb2f9780fe",
   "metadata": {},
   "outputs": [
    {
     "name": "stdout",
     "output_type": "stream",
     "text": [
      "\n",
      "3. Critical Value (alpha = 0.05): 9.4877\n"
     ]
    }
   ],
   "source": [
    "# Step 4: Determine the Critical Value\n",
    "alpha = 0.05\n",
    "critical_value = stats.chi2.ppf(q=1 - alpha, df=dof)\n",
    "\n",
    "print(f\"\\n3. Critical Value (alpha = 0.05): {critical_value:.4f}\")\n",
    "\n"
   ]
  },
  {
   "cell_type": "code",
   "execution_count": 5,
   "id": "cf448a5e-ade4-4cb9-a2ad-a23f08923d5a",
   "metadata": {},
   "outputs": [
    {
     "name": "stdout",
     "output_type": "stream",
     "text": [
      "\n",
      "4. Decision:\n",
      "Since Chi-Square Statistic <= Critical Value, we fail to reject the null hypothesis.\n",
      "Conclusion: There is no significant association between device type and customer satisfaction.\n"
     ]
    }
   ],
   "source": [
    "# Step 5: Decision\n",
    "print(\"\\n4. Decision:\")\n",
    "if chi2_stat > critical_value:\n",
    "    print(\"Since Chi-Square Statistic > Critical Value, we reject the null hypothesis.\")\n",
    "    print(\"Conclusion: There is a significant association between device type and customer satisfaction.\")\n",
    "else:\n",
    "    print(\"Since Chi-Square Statistic <= Critical Value, we fail to reject the null hypothesis.\")\n",
    "    print(\"Conclusion: There is no significant association between device type and customer satisfaction.\")\n"
   ]
  },
  {
   "cell_type": "code",
   "execution_count": null,
   "id": "0f3e24b2-75b2-4e77-97ab-7e767c3ff1a5",
   "metadata": {},
   "outputs": [],
   "source": []
  }
 ],
 "metadata": {
  "kernelspec": {
   "display_name": "Python 3 (ipykernel)",
   "language": "python",
   "name": "python3"
  },
  "language_info": {
   "codemirror_mode": {
    "name": "ipython",
    "version": 3
   },
   "file_extension": ".py",
   "mimetype": "text/x-python",
   "name": "python",
   "nbconvert_exporter": "python",
   "pygments_lexer": "ipython3",
   "version": "3.12.4"
  }
 },
 "nbformat": 4,
 "nbformat_minor": 5
}
