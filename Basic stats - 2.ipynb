{
 "cells": [
  {
   "cell_type": "code",
   "execution_count": 2,
   "id": "395f168b-69d7-4659-91f8-6685c98846fb",
   "metadata": {},
   "outputs": [],
   "source": [
    "import numpy as np\n",
    "from scipy import stats"
   ]
  },
  {
   "cell_type": "code",
   "execution_count": 3,
   "id": "ed3eaeab-0787-4e06-bda4-5ed65c9c72ed",
   "metadata": {},
   "outputs": [],
   "source": [
    "# Data for print-head durability (in millions of characters)\n",
    "data = np.array([1.13, 1.55, 1.43, 0.92, 1.25, 1.36, 1.32, 0.85, 1.07, 1.48, 1.20, 1.33, 1.18, 1.22, 1.29])\n",
    "n = len(data)\n",
    "alpha = 0.01  # For a 99% confidence interval"
   ]
  },
  {
   "cell_type": "code",
   "execution_count": 4,
   "id": "a4b167af-9f0b-4941-9cb4-d4cd06e2f6dd",
   "metadata": {},
   "outputs": [],
   "source": [
    "# a. Confidence Interval using Sample Standard Deviation\n",
    "sample_mean = np.mean(data)\n",
    "sample_std = np.std(data, ddof=1)  # ddof=1 for sample standard deviation\n",
    "degrees_of_freedom = n - 1\n",
    "t_critical = stats.t.ppf(1 - alpha / 2, degrees_of_freedom)\n",
    "margin_of_error_t = t_critical * (sample_std / np.sqrt(n))\n",
    "confidence_interval_t = (sample_mean - margin_of_error_t, sample_mean + margin_of_error_t)\n"
   ]
  },
  {
   "cell_type": "code",
   "execution_count": 5,
   "id": "104283cc-f83d-4274-848b-2305599a1e53",
   "metadata": {},
   "outputs": [
    {
     "name": "stdout",
     "output_type": "stream",
     "text": [
      "a. 99% Confidence Interval (using sample standard deviation):\n",
      "  Sample Mean: 1.2387 million characters\n",
      "  Sample Standard Deviation: 0.1932 million characters\n",
      "  t-critical value: 2.9768\n",
      "  Margin of Error: 0.1485 million characters\n",
      "  99% Confidence Interval: (1.0902, 1.3871) million characters\n",
      "\n",
      "Rationale for using the t-distribution:\n",
      "We use the t-distribution because the population standard deviation is unknown, and we are estimating it from a small sample (n < 30). The t-distribution has heavier tails than the standard normal distribution, which accounts for the added uncertainty introduced by estimating the population standard deviation.\n"
     ]
    }
   ],
   "source": [
    "print(\"a. 99% Confidence Interval (using sample standard deviation):\")\n",
    "print(f\"  Sample Mean: {sample_mean:.4f} million characters\")\n",
    "print(f\"  Sample Standard Deviation: {sample_std:.4f} million characters\")\n",
    "print(f\"  t-critical value: {t_critical:.4f}\")\n",
    "print(f\"  Margin of Error: {margin_of_error_t:.4f} million characters\")\n",
    "print(f\"  99% Confidence Interval: ({confidence_interval_t[0]:.4f}, {confidence_interval_t[1]:.4f}) million characters\")\n",
    "print(\"\\nRationale for using the t-distribution:\")\n",
    "print(\"We use the t-distribution because the population standard deviation is unknown, and we are estimating it from a small sample (n < 30). The t-distribution has heavier tails than the standard normal distribution, which accounts for the added uncertainty introduced by estimating the population standard deviation.\")\n"
   ]
  },
  {
   "cell_type": "code",
   "execution_count": 6,
   "id": "1592daa8-90b6-487e-9db4-fb9ee71a2fa6",
   "metadata": {},
   "outputs": [],
   "source": [
    "# b. Confidence Interval using Known Population Standard Deviation\n",
    "population_std_known = 0.2\n",
    "z_critical = stats.norm.ppf(1 - alpha / 2)\n",
    "margin_of_error_z = z_critical * (population_std_known / np.sqrt(n))\n",
    "confidence_interval_z = (sample_mean - margin_of_error_z, sample_mean + margin_of_error_z)\n"
   ]
  },
  {
   "cell_type": "code",
   "execution_count": 7,
   "id": "39a3dda4-e745-418d-8f04-21be43261413",
   "metadata": {},
   "outputs": [
    {
     "name": "stdout",
     "output_type": "stream",
     "text": [
      "\n",
      "b. 99% Confidence Interval (using known population standard deviation):\n",
      "  Sample Mean: 1.2387 million characters\n",
      "  Known Population Standard Deviation: 0.2000 million characters\n",
      "  z-critical value: 2.5758\n",
      "  Margin of Error: 0.1330 million characters\n",
      "  99% Confidence Interval: (1.1057, 1.3717) million characters\n"
     ]
    }
   ],
   "source": [
    "print(\"\\nb. 99% Confidence Interval (using known population standard deviation):\")\n",
    "print(f\"  Sample Mean: {sample_mean:.4f} million characters\")\n",
    "print(f\"  Known Population Standard Deviation: {population_std_known:.4f} million characters\")\n",
    "print(f\"  z-critical value: {z_critical:.4f}\")\n",
    "print(f\"  Margin of Error: {margin_of_error_z:.4f} million characters\")\n",
    "print(f\"  99% Confidence Interval: ({confidence_interval_z[0]:.4f}, {confidence_interval_z[1]:.4f}) million characters\")"
   ]
  },
  {
   "cell_type": "code",
   "execution_count": null,
   "id": "20c42de9-4ec2-4eab-898a-b18ffce6363a",
   "metadata": {},
   "outputs": [],
   "source": [
    "#Explanation of the Python Code:\n",
    "\n",
    "#    Import Libraries:\n",
    "#        numpy is imported as np for numerical operations, especially calculating the mean and standard deviation.\n",
    " #       scipy.stats is imported to provide statistical functions, specifically for the t-distribution (stats.t) and the standard normal distribution (stats.norm).\n",
    "\n",
    "  #  Data and Parameters:\n",
    "   #     The durability data is stored in a NumPy array called data.\n",
    "    #    The sample size n is calculated using len(data).\n",
    "     #   The significance level alpha is set to 0.01 for a 99% confidence interval.\n",
    "\n",
    "#    Part a: Confidence Interval using Sample Standard Deviation:\n",
    "#       sample_mean = np.mean(data): Calculates the average of the sample data.\n",
    "#       sample_std = np.std(data, ddof=1): Calculates the sample standard deviation. The ddof=1 argument is crucial because we are calculating the sample standard deviation (dividing by n−1 for an unbiased estimate of the population variance).\n",
    "#       degrees_of_freedom = n - 1: Calculates the degrees of freedom for the t-distribution.\n",
    "#        t_critical = stats.t.ppf(1 - alpha / 2, degrees_of_freedom): Finds the critical t-value for the desired confidence level and degrees of freedom using the percent point function (ppf, which is the inverse of the cumulative distribution function). We use 1 - alpha / 2 because we want the value that leaves α/2 in the upper tail.\n",
    "#       margin_of_error_t = t_critical * (sample_std / np.sqrt(n)): Calculates the margin of error for the t-distribution.\n",
    "#       confidence_interval_t = (sample_mean - margin_of_error_t, sample_mean + margin_of_error_t): Constructs the confidence interval.\n",
    "#        The results and the rationale for using the t-distribution are printed.\n",
    "\n",
    "#    Part b: Confidence Interval using Known Population Standard Deviation:\n",
    "#        population_std_known = 0.2: Sets the known population standard deviation.\n",
    "#        z_critical = stats.norm.ppf(1 - alpha / 2): Finds the critical z-value for the desired confidence level using the percent point function of the standard normal distribution.\n",
    "#        margin_of_error_z = z_critical * (population_std_known / np.sqrt(n)): Calculates the margin of error using the z-distribution.\n",
    "#        confidence_interval_z = (sample_mean - margin_of_error_z, sample_mean + margin_of_error_z): Constructs the confidence interval.\n",
    "#        The results are printed."
   ]
  }
 ],
 "metadata": {
  "kernelspec": {
   "display_name": "Python 3 (ipykernel)",
   "language": "python",
   "name": "python3"
  },
  "language_info": {
   "codemirror_mode": {
    "name": "ipython",
    "version": 3
   },
   "file_extension": ".py",
   "mimetype": "text/x-python",
   "name": "python",
   "nbconvert_exporter": "python",
   "pygments_lexer": "ipython3",
   "version": "3.12.4"
  }
 },
 "nbformat": 4,
 "nbformat_minor": 5
}
