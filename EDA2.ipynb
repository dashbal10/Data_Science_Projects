{
 "cells": [
  {
   "cell_type": "code",
   "execution_count": 3,
   "id": "52c0e8b4-070b-46f5-94b2-0a9829189fb1",
   "metadata": {},
   "outputs": [
    {
     "name": "stdout",
     "output_type": "stream",
     "text": [
      "<class 'pandas.core.frame.DataFrame'>\n",
      "RangeIndex: 32561 entries, 0 to 32560\n",
      "Data columns (total 15 columns):\n",
      " #   Column          Non-Null Count  Dtype \n",
      "---  ------          --------------  ----- \n",
      " 0   age             32561 non-null  int64 \n",
      " 1   workclass       32561 non-null  object\n",
      " 2   fnlwgt          32561 non-null  int64 \n",
      " 3   education       32561 non-null  object\n",
      " 4   education_num   32561 non-null  int64 \n",
      " 5   marital_status  32561 non-null  object\n",
      " 6   occupation      32561 non-null  object\n",
      " 7   relationship    32561 non-null  object\n",
      " 8   race            32561 non-null  object\n",
      " 9   sex             32561 non-null  object\n",
      " 10  capital_gain    32561 non-null  int64 \n",
      " 11  capital_loss    32561 non-null  int64 \n",
      " 12  hours_per_week  32561 non-null  int64 \n",
      " 13  native_country  32561 non-null  object\n",
      " 14  income          32561 non-null  object\n",
      "dtypes: int64(6), object(9)\n",
      "memory usage: 3.7+ MB\n",
      "None\n",
      "                 age workclass        fnlwgt education  education_num  \\\n",
      "count   32561.000000     32561  3.256100e+04     32561   32561.000000   \n",
      "unique           NaN         9           NaN        16            NaN   \n",
      "top              NaN   Private           NaN   HS-grad            NaN   \n",
      "freq             NaN     22696           NaN     10501            NaN   \n",
      "mean       38.581647       NaN  1.897784e+05       NaN      10.080679   \n",
      "std        13.640433       NaN  1.055500e+05       NaN       2.572720   \n",
      "min        17.000000       NaN  1.228500e+04       NaN       1.000000   \n",
      "25%        28.000000       NaN  1.178270e+05       NaN       9.000000   \n",
      "50%        37.000000       NaN  1.783560e+05       NaN      10.000000   \n",
      "75%        48.000000       NaN  2.370510e+05       NaN      12.000000   \n",
      "max        90.000000       NaN  1.484705e+06       NaN      16.000000   \n",
      "\n",
      "             marital_status       occupation relationship    race    sex  \\\n",
      "count                 32561            32561        32561   32561  32561   \n",
      "unique                    7               15            6       5      2   \n",
      "top      Married-civ-spouse   Prof-specialty      Husband   White   Male   \n",
      "freq                  14976             4140        13193   27816  21790   \n",
      "mean                    NaN              NaN          NaN     NaN    NaN   \n",
      "std                     NaN              NaN          NaN     NaN    NaN   \n",
      "min                     NaN              NaN          NaN     NaN    NaN   \n",
      "25%                     NaN              NaN          NaN     NaN    NaN   \n",
      "50%                     NaN              NaN          NaN     NaN    NaN   \n",
      "75%                     NaN              NaN          NaN     NaN    NaN   \n",
      "max                     NaN              NaN          NaN     NaN    NaN   \n",
      "\n",
      "        capital_gain  capital_loss  hours_per_week  native_country  income  \n",
      "count   32561.000000  32561.000000    32561.000000           32561   32561  \n",
      "unique           NaN           NaN             NaN              42       2  \n",
      "top              NaN           NaN             NaN   United-States   <=50K  \n",
      "freq             NaN           NaN             NaN           29170   24720  \n",
      "mean     1077.648844     87.303830       40.437456             NaN     NaN  \n",
      "std      7385.292085    402.960219       12.347429             NaN     NaN  \n",
      "min         0.000000      0.000000        1.000000             NaN     NaN  \n",
      "25%         0.000000      0.000000       40.000000             NaN     NaN  \n",
      "50%         0.000000      0.000000       40.000000             NaN     NaN  \n",
      "75%         0.000000      0.000000       45.000000             NaN     NaN  \n",
      "max     99999.000000   4356.000000       99.000000             NaN     NaN  \n",
      "age               0\n",
      "workclass         0\n",
      "fnlwgt            0\n",
      "education         0\n",
      "education_num     0\n",
      "marital_status    0\n",
      "occupation        0\n",
      "relationship      0\n",
      "race              0\n",
      "sex               0\n",
      "capital_gain      0\n",
      "capital_loss      0\n",
      "hours_per_week    0\n",
      "native_country    0\n",
      "income            0\n",
      "dtype: int64\n",
      "age               0\n",
      "workclass         0\n",
      "fnlwgt            0\n",
      "education         0\n",
      "education_num     0\n",
      "marital_status    0\n",
      "occupation        0\n",
      "relationship      0\n",
      "race              0\n",
      "sex               0\n",
      "capital_gain      0\n",
      "capital_loss      0\n",
      "hours_per_week    0\n",
      "native_country    0\n",
      "income            0\n",
      "dtype: int64\n"
     ]
    }
   ],
   "source": [
    "#1. Data Exploration and Preprocessing\n",
    "import pandas as pd\n",
    "import numpy as np\n",
    "from sklearn.preprocessing import StandardScaler, MinMaxScaler\n",
    "import matplotlib.pyplot as plt\n",
    "import seaborn as sns\n",
    "\n",
    "# Load dataset (adjust path or use online source)\n",
    "df = pd.read_csv('adult_with_headers.csv')\n",
    "\n",
    "# Basic exploration\n",
    "print(df.info())\n",
    "print(df.describe(include='all'))\n",
    "print(df.isnull().sum())  # Check missing values\n",
    "\n",
    "# Note: In the Adult dataset, missing values are often marked as '?'\n",
    "# Replace '?' with np.nan\n",
    "df.replace('?', np.nan, inplace=True)\n",
    "print(df.isnull().sum())  # Now check missing values again\n"
   ]
  },
  {
   "cell_type": "code",
   "execution_count": 4,
   "id": "8876d4fc-e592-4c4c-bb64-a43625b43f61",
   "metadata": {},
   "outputs": [
    {
     "name": "stderr",
     "output_type": "stream",
     "text": [
      "C:\\Users\\APPY\\AppData\\Local\\Temp\\ipykernel_12296\\1956055458.py:11: FutureWarning: A value is trying to be set on a copy of a DataFrame or Series through chained assignment using an inplace method.\n",
      "The behavior will change in pandas 3.0. This inplace method will never work because the intermediate object on which we are setting values always behaves as a copy.\n",
      "\n",
      "For example, when doing 'df[col].method(value, inplace=True)', try using 'df.method({col: value}, inplace=True)' or df[col] = df[col].method(value) instead, to perform the operation inplace on the original object.\n",
      "\n",
      "\n",
      "  df[col].fillna(df[col].median(), inplace=True)\n",
      "C:\\Users\\APPY\\AppData\\Local\\Temp\\ipykernel_12296\\1956055458.py:9: FutureWarning: A value is trying to be set on a copy of a DataFrame or Series through chained assignment using an inplace method.\n",
      "The behavior will change in pandas 3.0. This inplace method will never work because the intermediate object on which we are setting values always behaves as a copy.\n",
      "\n",
      "For example, when doing 'df[col].method(value, inplace=True)', try using 'df.method({col: value}, inplace=True)' or df[col] = df[col].method(value) instead, to perform the operation inplace on the original object.\n",
      "\n",
      "\n",
      "  df[col].fillna(df[col].mode()[0], inplace=True)\n"
     ]
    }
   ],
   "source": [
    "#Handling Missing Values\n",
    "# Option 1: Remove rows with missing values (simple but can lose data)\n",
    "df_clean = df.dropna()\n",
    "\n",
    "# Option 2: Impute missing values (better if missingness is low)\n",
    "# For categorical columns, impute with mode\n",
    "for col in df.columns:\n",
    "    if df[col].dtype == 'object':\n",
    "        df[col].fillna(df[col].mode()[0], inplace=True)\n",
    "    else:\n",
    "        df[col].fillna(df[col].median(), inplace=True)\n"
   ]
  },
  {
   "cell_type": "code",
   "execution_count": 5,
   "id": "4faf08da-ece4-4b31-a691-a6569ae624a7",
   "metadata": {},
   "outputs": [],
   "source": [
    "#Scaling Numerical Features\n",
    "num_cols = df_clean.select_dtypes(include=np.number).columns\n",
    "\n",
    "# Standard Scaling (mean=0, std=1)\n",
    "scaler_std = StandardScaler()\n",
    "df_clean_std = df_clean.copy()\n",
    "df_clean_std[num_cols] = scaler_std.fit_transform(df_clean[num_cols])\n",
    "\n",
    "# Min-Max Scaling (scale to [0,1])\n",
    "scaler_mm = MinMaxScaler()\n",
    "df_clean_mm = df_clean.copy()\n",
    "df_clean_mm[num_cols] = scaler_mm.fit_transform(df_clean[num_cols])\n"
   ]
  },
  {
   "cell_type": "code",
   "execution_count": 6,
   "id": "0d8b0deb-fadf-4ad9-99b1-b38bff610caa",
   "metadata": {},
   "outputs": [],
   "source": [
    "#When to use each scaling?\n",
    "#Standard Scaling is preferred when data follows approximately a normal distribution, and you want to center it around zero with unit variance. It is robust for algorithms assuming Gaussian distribution (e.g., logistic regression, SVM).\n",
    "\n",
    "#Min-Max Scaling is useful when you want all features within a fixed range, typically [0,1], useful for algorithms that require bounded input like neural networks or when preserving zero entries is important."
   ]
  },
  {
   "cell_type": "code",
   "execution_count": 7,
   "id": "71562738-16d1-444a-b55a-eebaad09313d",
   "metadata": {},
   "outputs": [],
   "source": [
    "#2. Encoding Techniques\n",
    "from sklearn.preprocessing import LabelEncoder\n",
    "\n",
    "# Identify categorical columns\n",
    "cat_cols = df_clean.select_dtypes(include='object').columns\n",
    "\n",
    "# Separate categorical columns based on number of unique values\n",
    "onehot_cols = [col for col in cat_cols if df_clean[col].nunique() < 5]\n",
    "labelenc_cols = [col for col in cat_cols if df_clean[col].nunique() >= 5]\n",
    "\n",
    "# One-Hot Encoding for low cardinality categorical features\n",
    "df_encoded = pd.get_dummies(df_clean, columns=onehot_cols)\n",
    "\n",
    "# Label Encoding for high cardinality categorical features\n",
    "label_encoders = {}\n",
    "for col in labelenc_cols:\n",
    "    le = LabelEncoder()\n",
    "    df_encoded[col] = le.fit_transform(df_clean[col])\n",
    "    label_encoders[col] = le\n"
   ]
  },
  {
   "cell_type": "code",
   "execution_count": 8,
   "id": "149ba238-f17e-4fe4-b437-620b9394496f",
   "metadata": {},
   "outputs": [],
   "source": [
    "#| Encoding Type        | Pros                                         | Cons                                                                       |\n",
    "#| -------------------- | -------------------------------------------- | -------------------------------------------------------------------------- |\n",
    "#| **One-Hot Encoding** | Does not assume any order, easy to interpret | Can create many features if categories are large (curse of dimensionality) |\n",
    "#| **Label Encoding**   | Simple and efficient                         | Imposes ordinal relationship where none may exist, can mislead some models |\n"
   ]
  },
  {
   "cell_type": "code",
   "execution_count": 9,
   "id": "c536a8d3-beb3-479d-ac53-fe7607fec1c6",
   "metadata": {},
   "outputs": [
    {
     "name": "stdout",
     "output_type": "stream",
     "text": [
      "['age', 'workclass', 'fnlwgt', 'education', 'education_num', 'marital_status', 'occupation', 'relationship', 'race', 'capital_gain', 'capital_loss', 'hours_per_week', 'native_country', 'sex_ Female', 'sex_ Male', 'income_ <=50K', 'income_ >50K']\n"
     ]
    }
   ],
   "source": [
    "print(df_encoded.columns.tolist())"
   ]
  },
  {
   "cell_type": "code",
   "execution_count": 10,
   "id": "ac646f47-26e4-4b88-b08e-a9fa2dfa7d22",
   "metadata": {},
   "outputs": [],
   "source": [
    "def skill_level(row):\n",
    "    if row['education_num'] >= 13 and row['occupation'] in ['Exec-managerial', 'Prof-specialty']:\n",
    "        return 'high_skill'\n",
    "    elif row['education_num'] < 13 and row['occupation'] in ['Craft-repair', 'Machine-op-inspct']:\n",
    "        return 'medium_skill'\n",
    "    else:\n",
    "        return 'low_skill'"
   ]
  },
  {
   "cell_type": "code",
   "execution_count": 11,
   "id": "51c4ae22-2338-453f-86b1-2789583edfee",
   "metadata": {},
   "outputs": [],
   "source": [
    "df_encoded['skill_level'] = df_encoded.apply(skill_level, axis=1)\n",
    "df_encoded['hours_per_week_high'] = (df_encoded['hours_per_week'] > 40).astype(int)"
   ]
  },
  {
   "cell_type": "code",
   "execution_count": 12,
   "id": "2af6097d-ecb9-4f38-99b2-d8210421161a",
   "metadata": {},
   "outputs": [],
   "source": [
    "#3. Feature Engineering\n",
    "#Creating new features:\n",
    "# 1. Combine education and occupation into a new feature indicating skill level\n",
    "def skill_level(row):\n",
    "    if row['education_num'] >= 13 and row['occupation'] in ['Exec-managerial', 'Prof-specialty']:\n",
    "        return 'high_skill'\n",
    "    elif row['education_num'] < 13 and row['occupation'] in ['Craft-repair', 'Machine-op-inspct']:\n",
    "        return 'medium_skill'\n",
    "    else:\n",
    "        return 'low_skill'\n",
    "\n",
    "df_encoded['skill_level'] = df_encoded.apply(skill_level, axis=1)\n",
    "\n",
    "# 2. Create a binary feature: 'hours_per_week_high' indicating if hours_per_week > 40\n",
    "df_encoded['hours_per_week_high'] = (df_encoded['hours_per_week'] > 40).astype(int)\n"
   ]
  },
  {
   "cell_type": "code",
   "execution_count": 13,
   "id": "f4bb79ba-3f42-44bb-8507-c554e9b2fc0a",
   "metadata": {},
   "outputs": [
    {
     "name": "stdout",
     "output_type": "stream",
     "text": [
      "age                0.558743\n",
      "fnlwgt             1.446980\n",
      "education_num     -0.311676\n",
      "capital_gain      11.953848\n",
      "capital_loss       4.594629\n",
      "hours_per_week     0.227643\n",
      "dtype: float64\n"
     ]
    }
   ],
   "source": [
    "#Transformation of skewed numerical feature\n",
    "# Check skewness\n",
    "skew_vals = df_encoded[num_cols].skew()\n",
    "print(skew_vals)\n",
    "\n",
    "# Apply log transformation on 'capital-gain' which is usually skewed\n",
    "df_encoded['capital_gain_log'] = np.log1p(df_encoded['capital_gain'])\n",
    "\n"
   ]
  },
  {
   "cell_type": "code",
   "execution_count": 14,
   "id": "a994fa29-2013-40d6-a292-484fe89d8daf",
   "metadata": {},
   "outputs": [
    {
     "name": "stdout",
     "output_type": "stream",
     "text": [
      "Removed 326 outliers\n"
     ]
    }
   ],
   "source": [
    "#4. Feature Selection\n",
    "from sklearn.ensemble import IsolationForest\n",
    "\n",
    "iso = IsolationForest(contamination=0.01, random_state=42)\n",
    "outliers = iso.fit_predict(df_encoded[num_cols])\n",
    "\n",
    "# -1 indicates outliers, 1 indicates inliers\n",
    "df_no_outliers = df_encoded[outliers == 1]\n",
    "\n",
    "print(f\"Removed {sum(outliers == -1)} outliers\")"
   ]
  },
  {
   "cell_type": "code",
   "execution_count": 15,
   "id": "66e855ad-2930-49fd-b73b-97c5f5355bfa",
   "metadata": {},
   "outputs": [],
   "source": [
    "#pip install --no-deps ppscore"
   ]
  },
  {
   "cell_type": "code",
   "execution_count": 18,
   "id": "339d0354-9b0d-43aa-8600-3b4efd254088",
   "metadata": {},
   "outputs": [
    {
     "name": "stdout",
     "output_type": "stream",
     "text": [
      "(32235, 20)\n"
     ]
    }
   ],
   "source": [
    "print(df_no_outliers.shape)"
   ]
  },
  {
   "cell_type": "code",
   "execution_count": 19,
   "id": "b32a747c-1c59-4a9e-8ea2-0494da3d6a60",
   "metadata": {},
   "outputs": [],
   "source": [
    "from sklearn.ensemble import IsolationForest\n",
    "\n",
    "iso = IsolationForest(contamination=0.05, random_state=42)  # Try 5% instead of a higher number\n",
    "outliers = iso.fit_predict(df_encoded.select_dtypes(include='number'))\n",
    "df_no_outliers = df_encoded[outliers == 1]"
   ]
  },
  {
   "cell_type": "code",
   "execution_count": 22,
   "id": "28a8d7a7-33d2-45a4-b117-87ce06d5fcd3",
   "metadata": {},
   "outputs": [],
   "source": [
    "# Only include numeric columns\n",
    "numeric_df = df_no_outliers.select_dtypes(include='number')"
   ]
  },
  {
   "cell_type": "code",
   "execution_count": 27,
   "id": "6e69eb69-29a9-4f19-b656-c6df4fc29424",
   "metadata": {},
   "outputs": [
    {
     "name": "stdout",
     "output_type": "stream",
     "text": [
      "Empty DataFrame\n",
      "Columns: [x, y, ppscore, case, is_valid_score, metric, baseline_score, model_score, model]\n",
      "Index: []\n"
     ]
    }
   ],
   "source": [
    "import ppscore as pps\n",
    "\n",
    "# Compute PPS matrix\n",
    "pps_matrix = pps.matrix(df_no_outliers)\n",
    "\n",
    "# Display relationships where 'income' is the predictor (x)\n",
    "print(pps_matrix[pps_matrix['x'] == 'income'].sort_values(by='ppscore', ascending=False))\n",
    "\n"
   ]
  },
  {
   "cell_type": "code",
   "execution_count": 28,
   "id": "90daa416-13fb-44c7-8265-bfaa41979eae",
   "metadata": {},
   "outputs": [
    {
     "name": "stdout",
     "output_type": "stream",
     "text": [
      "                       x             y       ppscore            case  \\\n",
      "336         income_ >50K  income_ >50K  1.000000e+00  predict_itself   \n",
      "316        income_ <=50K  income_ >50K  1.000000e+00  classification   \n",
      "396     capital_gain_log  income_ >50K  2.272578e-01  classification   \n",
      "196         capital_gain  income_ >50K  2.272578e-01  classification   \n",
      "76             education  income_ >50K  2.115973e-01  classification   \n",
      "96         education_num  income_ >50K  2.115973e-01  classification   \n",
      "136           occupation  income_ >50K  1.603982e-01  classification   \n",
      "216         capital_loss  income_ >50K  1.160551e-01  classification   \n",
      "236       hours_per_week  income_ >50K  3.225861e-02  classification   \n",
      "36             workclass  income_ >50K  1.612036e-02  classification   \n",
      "16                   age  income_ >50K  6.522576e-03  classification   \n",
      "56                fnlwgt  income_ >50K  5.757988e-03  classification   \n",
      "116       marital_status  income_ >50K  2.248644e-03  classification   \n",
      "176                 race  income_ >50K  1.302189e-07  classification   \n",
      "156         relationship  income_ >50K  1.302189e-07  classification   \n",
      "276          sex_ Female  income_ >50K  1.302189e-07  classification   \n",
      "296            sex_ Male  income_ >50K  1.302189e-07  classification   \n",
      "356          skill_level  income_ >50K  1.302189e-07  classification   \n",
      "376  hours_per_week_high  income_ >50K  1.302189e-07  classification   \n",
      "256       native_country  income_ >50K  0.000000e+00  classification   \n",
      "\n",
      "     is_valid_score       metric  baseline_score  model_score  \\\n",
      "336            True         None        0.000000     1.000000   \n",
      "316            True  weighted F1        0.665862     1.000000   \n",
      "396            True  weighted F1        0.665862     0.741797   \n",
      "196            True  weighted F1        0.665862     0.741797   \n",
      "76             True  weighted F1        0.665862     0.736565   \n",
      "96             True  weighted F1        0.665862     0.736565   \n",
      "136            True  weighted F1        0.665862     0.719457   \n",
      "216            True  weighted F1        0.665862     0.704640   \n",
      "236            True  weighted F1        0.665862     0.676641   \n",
      "36             True  weighted F1        0.665862     0.671248   \n",
      "16             True  weighted F1        0.665862     0.668041   \n",
      "56             True  weighted F1        0.665862     0.667786   \n",
      "116            True  weighted F1        0.665862     0.666613   \n",
      "176            True  weighted F1        0.665862     0.665862   \n",
      "156            True  weighted F1        0.665862     0.665862   \n",
      "276            True  weighted F1        0.665862     0.665862   \n",
      "296            True  weighted F1        0.665862     0.665862   \n",
      "356            True  weighted F1        0.665862     0.665862   \n",
      "376            True  weighted F1        0.665862     0.665862   \n",
      "256            True  weighted F1        0.665862     0.665665   \n",
      "\n",
      "                        model  \n",
      "336                      None  \n",
      "316  DecisionTreeClassifier()  \n",
      "396  DecisionTreeClassifier()  \n",
      "196  DecisionTreeClassifier()  \n",
      "76   DecisionTreeClassifier()  \n",
      "96   DecisionTreeClassifier()  \n",
      "136  DecisionTreeClassifier()  \n",
      "216  DecisionTreeClassifier()  \n",
      "236  DecisionTreeClassifier()  \n",
      "36   DecisionTreeClassifier()  \n",
      "16   DecisionTreeClassifier()  \n",
      "56   DecisionTreeClassifier()  \n",
      "116  DecisionTreeClassifier()  \n",
      "176  DecisionTreeClassifier()  \n",
      "156  DecisionTreeClassifier()  \n",
      "276  DecisionTreeClassifier()  \n",
      "296  DecisionTreeClassifier()  \n",
      "356  DecisionTreeClassifier()  \n",
      "376  DecisionTreeClassifier()  \n",
      "256  DecisionTreeClassifier()  \n"
     ]
    }
   ],
   "source": [
    "# Display relationships where income is the target (y)\n",
    "print(pps_matrix[pps_matrix['y'] == 'income_ >50K'].sort_values(by='ppscore', ascending=False))\n"
   ]
  },
  {
   "cell_type": "code",
   "execution_count": 31,
   "id": "9bf711d3-bd4e-45fc-acea-4264a6c3ecb7",
   "metadata": {},
   "outputs": [
    {
     "name": "stderr",
     "output_type": "stream",
     "text": [
      "C:\\Users\\APPY\\AppData\\Local\\Temp\\ipykernel_12296\\2721137389.py:9: FutureWarning: \n",
      "\n",
      "Passing `palette` without assigning `hue` is deprecated and will be removed in v0.14.0. Assign the `y` variable to `hue` and set `legend=False` for the same effect.\n",
      "\n",
      "  sns.barplot(data=pps_income.head(10), x='ppscore', y='x', palette='viridis')\n"
     ]
    },
    {
     "data": {
      "image/png": "[encoded data removed]",
      "text/plain": [
       "<Figure size 1000x600 with 1 Axes>"
      ]
     },
     "metadata": {},
     "output_type": "display_data"
    }
   ],
   "source": [
    "import seaborn as sns\n",
    "import matplotlib.pyplot as plt\n",
    "\n",
    "# Filter only rows where y = 'income_ >50K' and sort by PPS score\n",
    "pps_income = pps_matrix[pps_matrix['y'] == 'income_ >50K'].sort_values(by='ppscore', ascending=False)\n",
    "\n",
    "# Plot top predictors\n",
    "plt.figure(figsize=(10,6))\n",
    "sns.barplot(data=pps_income.head(10), x='ppscore', y='x', palette='viridis')\n",
    "plt.title(\"Top Predictive Features for income_ >50K\")\n",
    "plt.xlabel(\"PPS Score\")\n",
    "plt.ylabel(\"Features\")\n",
    "plt.show()\n",
    "\n"
   ]
  },
  {
   "cell_type": "code",
   "execution_count": null,
   "id": "c840b85a-663a-446c-82c7-03d65188088d",
   "metadata": {},
   "outputs": [],
   "source": [
    "#Summary\n",
    "#Data preprocessing involves cleaning missing values and scaling features appropriately.\n",
    "\n",
    "#Encoding methods must be chosen based on cardinality and the nature of categorical data.\n",
    "\n",
    "#Feature engineering can add predictive power through new features and transformations.\n",
    "\n",
    "#Outlier detection/removal improves model robustness.\n",
    "\n",
    "#PPS offers a more flexible approach to understand predictive relationships than correlation alone."
   ]
  },
  {
   "cell_type": "code",
   "execution_count": null,
   "id": "33e015df-c1ab-4e34-943e-28631f6b69eb",
   "metadata": {},
   "outputs": [],
   "source": []
  }
 ],
 "metadata": {
  "kernelspec": {
   "display_name": "Python 3 (ipykernel)",
   "language": "python",
   "name": "python3"
  },
  "language_info": {
   "codemirror_mode": {
    "name": "ipython",
    "version": 3
   },
   "file_extension": ".py",
   "mimetype": "text/x-python",
   "name": "python",
   "nbconvert_exporter": "python",
   "pygments_lexer": "ipython3",
   "version": "3.12.4"
  }
 },
 "nbformat": 4,
 "nbformat_minor": 5
}
