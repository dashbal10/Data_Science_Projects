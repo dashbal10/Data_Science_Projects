{
 "cells": [
  {
   "cell_type": "code",
   "execution_count": 1,
   "id": "f4d85dd7-2358-4c74-b7b2-871ce04c8ec1",
   "metadata": {},
   "outputs": [
    {
     "name": "stdout",
     "output_type": "stream",
     "text": [
      "1. Hypotheses:\n",
      "Null Hypothesis (H0): The weekly operating cost has not increased. (μ = $4000)\n",
      "Alternative Hypothesis (H1): The weekly operating cost has increased. (μ > $4000)\n",
      "\n"
     ]
    }
   ],
   "source": [
    "import math\n",
    "from scipy.stats import norm\n",
    "\n",
    "# Step 1: State the Hypotheses\n",
    "print(\"1. Hypotheses:\")\n",
    "print(\"Null Hypothesis (H0): The weekly operating cost has not increased. (μ = $4000)\")\n",
    "print(\"Alternative Hypothesis (H1): The weekly operating cost has increased. (μ > $4000)\\n\")"
   ]
  },
  {
   "cell_type": "code",
   "execution_count": 2,
   "id": "2cb483cb-441e-4ab2-82ed-545c2b688d89",
   "metadata": {},
   "outputs": [
    {
     "name": "stdout",
     "output_type": "stream",
     "text": [
      "2. Test Statistic Calculation:\n",
      "Theoretical Mean: 4000\n",
      "Standard Deviation (σ): 125\n",
      "Standard Error (SE): 25.00\n",
      "Test Statistic (Z): -38.0000\n",
      "\n"
     ]
    }
   ],
   "source": [
    "# Step 2: Calculate the Test Statistic\n",
    "# Given values\n",
    "sample_mean = 3050  # x̄\n",
    "X_mean = 600        # Average units produced\n",
    "sigma_X = 25        # Std deviation of X\n",
    "sigma = 5 * sigma_X # Std deviation of cost model\n",
    "n = 25              # Sample size\n",
    "\n",
    "# Theoretical mean weekly cost: W = 1000 + 5 * 600 = 4000\n",
    "theoretical_mean = 1000 + 5 * X_mean  # μ = 4000\n",
    "\n",
    "# Calculate test statistic\n",
    "standard_error = sigma / math.sqrt(n)\n",
    "z = (sample_mean - theoretical_mean) / standard_error\n",
    "\n",
    "print(\"2. Test Statistic Calculation:\")\n",
    "print(f\"Theoretical Mean: {theoretical_mean}\")\n",
    "print(f\"Standard Deviation (σ): {sigma}\")\n",
    "print(f\"Standard Error (SE): {standard_error:.2f}\")\n",
    "print(f\"Test Statistic (Z): {z:.4f}\\n\")"
   ]
  },
  {
   "cell_type": "code",
   "execution_count": 3,
   "id": "314206ff-30f9-462d-b0c7-8def9befccaa",
   "metadata": {},
   "outputs": [
    {
     "name": "stdout",
     "output_type": "stream",
     "text": [
      "3. Critical Value:\n",
      "Z-critical at α = 0.05: 1.6449\n",
      "\n"
     ]
    }
   ],
   "source": [
    "# Step 3: Determine the Critical Value\n",
    "alpha = 0.05\n",
    "z_critical = norm.ppf(1 - alpha)  # One-tailed test\n",
    "\n",
    "print(\"3. Critical Value:\")\n",
    "print(f\"Z-critical at α = 0.05: {z_critical:.4f}\\n\")"
   ]
  },
  {
   "cell_type": "code",
   "execution_count": 4,
   "id": "b8a5db96-0112-4847-81f5-e5da0811bb73",
   "metadata": {},
   "outputs": [
    {
     "name": "stdout",
     "output_type": "stream",
     "text": [
      "4. Decision:\n",
      "Since Z ≤ Z-critical, we fail to reject the null hypothesis.\n"
     ]
    }
   ],
   "source": [
    "# Step 4: Make a Decision\n",
    "print(\"4. Decision:\")\n",
    "if z > z_critical:\n",
    "    print(\"Since Z > Z-critical, we reject the null hypothesis.\")\n",
    "else:\n",
    "    print(\"Since Z ≤ Z-critical, we fail to reject the null hypothesis.\")"
   ]
  },
  {
   "cell_type": "code",
   "execution_count": 5,
   "id": "e2ce27a0-912f-4879-93ec-b6bfe30ee566",
   "metadata": {},
   "outputs": [
    {
     "name": "stdout",
     "output_type": "stream",
     "text": [
      "\n",
      "5. Conclusion:\n",
      "Conclusion: There is insufficient evidence to support the claim that the weekly operating costs have increased.\n"
     ]
    }
   ],
   "source": [
    "# Step 5: Conclusion\n",
    "print(\"\\n5. Conclusion:\")\n",
    "if z > z_critical:\n",
    "    print(\"Conclusion: There is strong evidence to support the restaurant owners' claim that the weekly operating costs are higher than the model suggests.\")\n",
    "else:\n",
    "    print(\"Conclusion: There is insufficient evidence to support the claim that the weekly operating costs have increased.\")"
   ]
  }
 ],
 "metadata": {
  "kernelspec": {
   "display_name": "Python 3 (ipykernel)",
   "language": "python",
   "name": "python3"
  },
  "language_info": {
   "codemirror_mode": {
    "name": "ipython",
    "version": 3
   },
   "file_extension": ".py",
   "mimetype": "text/x-python",
   "name": "python",
   "nbconvert_exporter": "python",
   "pygments_lexer": "ipython3",
   "version": "3.12.4"
  }
 },
 "nbformat": 4,
 "nbformat_minor": 5
}
